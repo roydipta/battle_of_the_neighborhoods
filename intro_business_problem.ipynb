{
 "cells": [
  {
   "cell_type": "markdown",
   "metadata": {},
   "source": [
    "# The Battle of Neighborhoods (Week 1)\n",
    "In this notebook we will explore the city of New York looking for the best location for a new Chinese food restaurant."
   ]
  },
  {
   "cell_type": "markdown",
   "metadata": {},
   "source": [
    "## Introduction"
   ]
  },
  {
   "cell_type": "markdown",
   "metadata": {},
   "source": [
    "In this project we will explore data from the city of New York.\n",
    "\n",
    "The aim is to identify the best place to open a new Chinese food restaurant in the city, which location would be the most appropriate taking into account the competitors and the inhabitants of the different neighborhoods of the city."
   ]
  },
  {
   "cell_type": "markdown",
   "metadata": {},
   "source": [
    "## Business Problem"
   ]
  },
  {
   "cell_type": "markdown",
   "metadata": {},
   "source": [
    "New York City is one of the most populous city in United States with a population of 8.39 million in 2020. It is a hub of diverse cultures combining all facets of the globe.\n",
    "\n",
    "NYC is a major industrial center and the financial capital of the world. There are 5 boroughs in the city, and with such a large geographical area there is a huge competition between companies. Thus there is big challenge in figuring out the most ideal spots to open up a new business and maximizing profits. \n",
    "\n",
    "Target Audience: Chinese restaurant in NYC"
   ]
  },
  {
   "cell_type": "markdown",
   "metadata": {},
   "source": []
  }
 ],
 "metadata": {
  "kernelspec": {
   "display_name": "Python 3",
   "language": "python",
   "name": "python3"
  },
  "language_info": {
   "codemirror_mode": {
    "name": "ipython",
    "version": 3
   },
   "file_extension": ".py",
   "mimetype": "text/x-python",
   "name": "python",
   "nbconvert_exporter": "python",
   "pygments_lexer": "ipython3",
   "version": "3.8.3"
  }
 },
 "nbformat": 4,
 "nbformat_minor": 4
}
